{
 "cells": [
  {
   "cell_type": "code",
   "execution_count": 10,
   "metadata": {},
   "outputs": [],
   "source": [
    "import pandas as pd\n",
    "import numpy as np\n",
    "import random\n",
    "\n",
    "random.seed(42)\n",
    "np.random.seed(42)\n",
    "\n",
    "# Define the number of creatures\n",
    "num_creatures = 100\n",
    "\n",
    "# Define the creature types\n",
    "creature_types = ['Dragon', 'Unicorn', 'Griffin', 'Phoenix', 'Mermaid', 'Centaur']\n",
    "\n",
    "# Generate random data\n",
    "data = {\n",
    "    'creature_name': ['Creature' + str(i) for i in range(num_creatures)],\n",
    "    'creature_type': np.random.choice(creature_types, num_creatures),\n",
    "    'age': np.random.randint(1, 1000, num_creatures),\n",
    "    'health_status': np.random.choice(['Excellent', 'Good', 'Fair', 'Poor'], num_creatures),\n",
    "    'magical_ability_score': np.random.randint(0, 101, num_creatures)\n",
    "}\n",
    "\n",
    "# Create a DataFrame\n",
    "df = pd.DataFrame(data)"
   ]
  },
  {
   "cell_type": "code",
   "execution_count": 11,
   "metadata": {},
   "outputs": [
    {
     "data": {
      "text/html": [
       "<div>\n",
       "<style scoped>\n",
       "    .dataframe tbody tr th:only-of-type {\n",
       "        vertical-align: middle;\n",
       "    }\n",
       "\n",
       "    .dataframe tbody tr th {\n",
       "        vertical-align: top;\n",
       "    }\n",
       "\n",
       "    .dataframe thead th {\n",
       "        text-align: right;\n",
       "    }\n",
       "</style>\n",
       "<table border=\"1\" class=\"dataframe\">\n",
       "  <thead>\n",
       "    <tr style=\"text-align: right;\">\n",
       "      <th></th>\n",
       "      <th>creature_name</th>\n",
       "      <th>creature_type</th>\n",
       "      <th>age</th>\n",
       "      <th>health_status</th>\n",
       "      <th>magical_ability_score</th>\n",
       "    </tr>\n",
       "  </thead>\n",
       "  <tbody>\n",
       "    <tr>\n",
       "      <th>0</th>\n",
       "      <td>Creature0</td>\n",
       "      <td>Phoenix</td>\n",
       "      <td>15</td>\n",
       "      <td>Fair</td>\n",
       "      <td>19</td>\n",
       "    </tr>\n",
       "    <tr>\n",
       "      <th>1</th>\n",
       "      <td>Creature1</td>\n",
       "      <td>Mermaid</td>\n",
       "      <td>813</td>\n",
       "      <td>Poor</td>\n",
       "      <td>58</td>\n",
       "    </tr>\n",
       "    <tr>\n",
       "      <th>2</th>\n",
       "      <td>Creature2</td>\n",
       "      <td>Griffin</td>\n",
       "      <td>65</td>\n",
       "      <td>Good</td>\n",
       "      <td>35</td>\n",
       "    </tr>\n",
       "    <tr>\n",
       "      <th>3</th>\n",
       "      <td>Creature3</td>\n",
       "      <td>Mermaid</td>\n",
       "      <td>857</td>\n",
       "      <td>Fair</td>\n",
       "      <td>18</td>\n",
       "    </tr>\n",
       "    <tr>\n",
       "      <th>4</th>\n",
       "      <td>Creature4</td>\n",
       "      <td>Mermaid</td>\n",
       "      <td>839</td>\n",
       "      <td>Poor</td>\n",
       "      <td>89</td>\n",
       "    </tr>\n",
       "  </tbody>\n",
       "</table>\n",
       "</div>"
      ],
      "text/plain": [
       "  creature_name creature_type  age health_status  magical_ability_score\n",
       "0     Creature0       Phoenix   15          Fair                     19\n",
       "1     Creature1       Mermaid  813          Poor                     58\n",
       "2     Creature2       Griffin   65          Good                     35\n",
       "3     Creature3       Mermaid  857          Fair                     18\n",
       "4     Creature4       Mermaid  839          Poor                     89"
      ]
     },
     "execution_count": 11,
     "metadata": {},
     "output_type": "execute_result"
    }
   ],
   "source": [
    "df.head()"
   ]
  },
  {
   "cell_type": "code",
   "execution_count": 14,
   "metadata": {},
   "outputs": [
    {
     "data": {
      "text/plain": [
       "(100,\n",
       " 100,\n",
       " creature_name            100\n",
       " creature_type            100\n",
       " age                      100\n",
       " health_status            100\n",
       " magical_ability_score    100\n",
       " dtype: int64)"
      ]
     },
     "execution_count": 14,
     "metadata": {},
     "output_type": "execute_result"
    }
   ],
   "source": [
    "len(df), df.shape[0], df.count()"
   ]
  },
  {
   "cell_type": "code",
   "execution_count": 15,
   "metadata": {},
   "outputs": [
    {
     "data": {
      "text/plain": [
       "creature_name            100\n",
       "creature_type            100\n",
       "age                      100\n",
       "health_status            100\n",
       "magical_ability_score    100\n",
       "dtype: int64"
      ]
     },
     "execution_count": 15,
     "metadata": {},
     "output_type": "execute_result"
    }
   ],
   "source": [
    "df.count()"
   ]
  },
  {
   "cell_type": "code",
   "execution_count": 20,
   "metadata": {},
   "outputs": [
    {
     "data": {
      "text/plain": [
       "19"
      ]
     },
     "execution_count": 20,
     "metadata": {},
     "output_type": "execute_result"
    }
   ],
   "source": [
    "unicorn_mask = df[\"creature_type\"] == \"Unicorn\"\n",
    "unicorn_df = df[unicorn_mask]\n",
    "unicorn_df.head()\n",
    "len(unicorn_df)"
   ]
  },
  {
   "cell_type": "code",
   "execution_count": 21,
   "metadata": {},
   "outputs": [
    {
     "data": {
      "text/plain": [
       "creature_type\n",
       "Phoenix    25\n",
       "Unicorn    19\n",
       "Mermaid    17\n",
       "Centaur    17\n",
       "Griffin    11\n",
       "Dragon     11\n",
       "Name: count, dtype: int64"
      ]
     },
     "execution_count": 21,
     "metadata": {},
     "output_type": "execute_result"
    }
   ],
   "source": [
    "df[\"creature_type\"].value_counts()"
   ]
  },
  {
   "cell_type": "code",
   "execution_count": 22,
   "metadata": {},
   "outputs": [
    {
     "data": {
      "text/plain": [
       "517.97"
      ]
     },
     "execution_count": 22,
     "metadata": {},
     "output_type": "execute_result"
    }
   ],
   "source": [
    "avg_age = df[\"age\"].mean()\n",
    "avg_age"
   ]
  },
  {
   "cell_type": "code",
   "execution_count": 23,
   "metadata": {},
   "outputs": [
    {
     "data": {
      "text/plain": [
       "creature_type\n",
       "Centaur    442.588235\n",
       "Dragon     727.545455\n",
       "Griffin    348.818182\n",
       "Mermaid    692.058824\n",
       "Phoenix    458.000000\n",
       "Unicorn    485.157895\n",
       "Name: age, dtype: float64"
      ]
     },
     "execution_count": 23,
     "metadata": {},
     "output_type": "execute_result"
    }
   ],
   "source": [
    "df.groupby(\"creature_type\")[\"age\"].mean()"
   ]
  },
  {
   "cell_type": "code",
   "execution_count": 24,
   "metadata": {},
   "outputs": [
    {
     "data": {
      "text/plain": [
       "987"
      ]
     },
     "execution_count": 24,
     "metadata": {},
     "output_type": "execute_result"
    }
   ],
   "source": [
    "max_age = df[\"age\"].max()\n",
    "max_age"
   ]
  },
  {
   "cell_type": "code",
   "execution_count": 26,
   "metadata": {},
   "outputs": [
    {
     "data": {
      "text/plain": [
       "40"
      ]
     },
     "execution_count": 26,
     "metadata": {},
     "output_type": "execute_result"
    }
   ],
   "source": [
    "max_age = df[\"age\"].max()\n",
    "max_age_index = np.argmax(df[\"age\"])\n",
    "max_age_index\n"
   ]
  },
  {
   "cell_type": "code",
   "execution_count": 27,
   "metadata": {},
   "outputs": [
    {
     "data": {
      "text/plain": [
       "creature_name            Creature40\n",
       "creature_type                Dragon\n",
       "age                             987\n",
       "health_status             Excellent\n",
       "magical_ability_score            47\n",
       "Name: 40, dtype: object"
      ]
     },
     "execution_count": 27,
     "metadata": {},
     "output_type": "execute_result"
    }
   ],
   "source": [
    "df.iloc[max_age_index]"
   ]
  },
  {
   "cell_type": "code",
   "execution_count": 28,
   "metadata": {},
   "outputs": [
    {
     "data": {
      "text/html": [
       "<div>\n",
       "<style scoped>\n",
       "    .dataframe tbody tr th:only-of-type {\n",
       "        vertical-align: middle;\n",
       "    }\n",
       "\n",
       "    .dataframe tbody tr th {\n",
       "        vertical-align: top;\n",
       "    }\n",
       "\n",
       "    .dataframe thead th {\n",
       "        text-align: right;\n",
       "    }\n",
       "</style>\n",
       "<table border=\"1\" class=\"dataframe\">\n",
       "  <thead>\n",
       "    <tr style=\"text-align: right;\">\n",
       "      <th></th>\n",
       "      <th>creature_name</th>\n",
       "      <th>creature_type</th>\n",
       "      <th>age</th>\n",
       "      <th>health_status</th>\n",
       "      <th>magical_ability_score</th>\n",
       "    </tr>\n",
       "  </thead>\n",
       "  <tbody>\n",
       "    <tr>\n",
       "      <th>1</th>\n",
       "      <td>Creature1</td>\n",
       "      <td>Mermaid</td>\n",
       "      <td>813</td>\n",
       "      <td>Poor</td>\n",
       "      <td>58</td>\n",
       "    </tr>\n",
       "    <tr>\n",
       "      <th>4</th>\n",
       "      <td>Creature4</td>\n",
       "      <td>Mermaid</td>\n",
       "      <td>839</td>\n",
       "      <td>Poor</td>\n",
       "      <td>89</td>\n",
       "    </tr>\n",
       "    <tr>\n",
       "      <th>14</th>\n",
       "      <td>Creature14</td>\n",
       "      <td>Unicorn</td>\n",
       "      <td>392</td>\n",
       "      <td>Poor</td>\n",
       "      <td>81</td>\n",
       "    </tr>\n",
       "    <tr>\n",
       "      <th>20</th>\n",
       "      <td>Creature20</td>\n",
       "      <td>Mermaid</td>\n",
       "      <td>490</td>\n",
       "      <td>Poor</td>\n",
       "      <td>49</td>\n",
       "    </tr>\n",
       "    <tr>\n",
       "      <th>28</th>\n",
       "      <td>Creature28</td>\n",
       "      <td>Dragon</td>\n",
       "      <td>930</td>\n",
       "      <td>Poor</td>\n",
       "      <td>89</td>\n",
       "    </tr>\n",
       "    <tr>\n",
       "      <th>29</th>\n",
       "      <td>Creature29</td>\n",
       "      <td>Griffin</td>\n",
       "      <td>33</td>\n",
       "      <td>Poor</td>\n",
       "      <td>59</td>\n",
       "    </tr>\n",
       "    <tr>\n",
       "      <th>33</th>\n",
       "      <td>Creature33</td>\n",
       "      <td>Phoenix</td>\n",
       "      <td>574</td>\n",
       "      <td>Poor</td>\n",
       "      <td>11</td>\n",
       "    </tr>\n",
       "    <tr>\n",
       "      <th>34</th>\n",
       "      <td>Creature34</td>\n",
       "      <td>Centaur</td>\n",
       "      <td>728</td>\n",
       "      <td>Poor</td>\n",
       "      <td>68</td>\n",
       "    </tr>\n",
       "    <tr>\n",
       "      <th>35</th>\n",
       "      <td>Creature35</td>\n",
       "      <td>Centaur</td>\n",
       "      <td>805</td>\n",
       "      <td>Poor</td>\n",
       "      <td>36</td>\n",
       "    </tr>\n",
       "    <tr>\n",
       "      <th>37</th>\n",
       "      <td>Creature37</td>\n",
       "      <td>Griffin</td>\n",
       "      <td>684</td>\n",
       "      <td>Poor</td>\n",
       "      <td>8</td>\n",
       "    </tr>\n",
       "    <tr>\n",
       "      <th>42</th>\n",
       "      <td>Creature42</td>\n",
       "      <td>Mermaid</td>\n",
       "      <td>961</td>\n",
       "      <td>Poor</td>\n",
       "      <td>2</td>\n",
       "    </tr>\n",
       "    <tr>\n",
       "      <th>43</th>\n",
       "      <td>Creature43</td>\n",
       "      <td>Griffin</td>\n",
       "      <td>739</td>\n",
       "      <td>Poor</td>\n",
       "      <td>19</td>\n",
       "    </tr>\n",
       "    <tr>\n",
       "      <th>51</th>\n",
       "      <td>Creature51</td>\n",
       "      <td>Unicorn</td>\n",
       "      <td>503</td>\n",
       "      <td>Poor</td>\n",
       "      <td>37</td>\n",
       "    </tr>\n",
       "    <tr>\n",
       "      <th>57</th>\n",
       "      <td>Creature57</td>\n",
       "      <td>Phoenix</td>\n",
       "      <td>207</td>\n",
       "      <td>Poor</td>\n",
       "      <td>92</td>\n",
       "    </tr>\n",
       "    <tr>\n",
       "      <th>61</th>\n",
       "      <td>Creature61</td>\n",
       "      <td>Mermaid</td>\n",
       "      <td>892</td>\n",
       "      <td>Poor</td>\n",
       "      <td>53</td>\n",
       "    </tr>\n",
       "    <tr>\n",
       "      <th>68</th>\n",
       "      <td>Creature68</td>\n",
       "      <td>Unicorn</td>\n",
       "      <td>564</td>\n",
       "      <td>Poor</td>\n",
       "      <td>67</td>\n",
       "    </tr>\n",
       "    <tr>\n",
       "      <th>70</th>\n",
       "      <td>Creature70</td>\n",
       "      <td>Centaur</td>\n",
       "      <td>900</td>\n",
       "      <td>Poor</td>\n",
       "      <td>13</td>\n",
       "    </tr>\n",
       "    <tr>\n",
       "      <th>72</th>\n",
       "      <td>Creature72</td>\n",
       "      <td>Unicorn</td>\n",
       "      <td>485</td>\n",
       "      <td>Poor</td>\n",
       "      <td>47</td>\n",
       "    </tr>\n",
       "    <tr>\n",
       "      <th>74</th>\n",
       "      <td>Creature74</td>\n",
       "      <td>Centaur</td>\n",
       "      <td>231</td>\n",
       "      <td>Poor</td>\n",
       "      <td>7</td>\n",
       "    </tr>\n",
       "    <tr>\n",
       "      <th>77</th>\n",
       "      <td>Creature77</td>\n",
       "      <td>Unicorn</td>\n",
       "      <td>171</td>\n",
       "      <td>Poor</td>\n",
       "      <td>16</td>\n",
       "    </tr>\n",
       "    <tr>\n",
       "      <th>82</th>\n",
       "      <td>Creature82</td>\n",
       "      <td>Phoenix</td>\n",
       "      <td>839</td>\n",
       "      <td>Poor</td>\n",
       "      <td>85</td>\n",
       "    </tr>\n",
       "    <tr>\n",
       "      <th>84</th>\n",
       "      <td>Creature84</td>\n",
       "      <td>Centaur</td>\n",
       "      <td>243</td>\n",
       "      <td>Poor</td>\n",
       "      <td>29</td>\n",
       "    </tr>\n",
       "    <tr>\n",
       "      <th>90</th>\n",
       "      <td>Creature90</td>\n",
       "      <td>Unicorn</td>\n",
       "      <td>574</td>\n",
       "      <td>Poor</td>\n",
       "      <td>26</td>\n",
       "    </tr>\n",
       "    <tr>\n",
       "      <th>91</th>\n",
       "      <td>Creature91</td>\n",
       "      <td>Mermaid</td>\n",
       "      <td>953</td>\n",
       "      <td>Poor</td>\n",
       "      <td>97</td>\n",
       "    </tr>\n",
       "    <tr>\n",
       "      <th>94</th>\n",
       "      <td>Creature94</td>\n",
       "      <td>Phoenix</td>\n",
       "      <td>28</td>\n",
       "      <td>Poor</td>\n",
       "      <td>96</td>\n",
       "    </tr>\n",
       "    <tr>\n",
       "      <th>97</th>\n",
       "      <td>Creature97</td>\n",
       "      <td>Mermaid</td>\n",
       "      <td>340</td>\n",
       "      <td>Poor</td>\n",
       "      <td>96</td>\n",
       "    </tr>\n",
       "  </tbody>\n",
       "</table>\n",
       "</div>"
      ],
      "text/plain": [
       "   creature_name creature_type  age health_status  magical_ability_score\n",
       "1      Creature1       Mermaid  813          Poor                     58\n",
       "4      Creature4       Mermaid  839          Poor                     89\n",
       "14    Creature14       Unicorn  392          Poor                     81\n",
       "20    Creature20       Mermaid  490          Poor                     49\n",
       "28    Creature28        Dragon  930          Poor                     89\n",
       "29    Creature29       Griffin   33          Poor                     59\n",
       "33    Creature33       Phoenix  574          Poor                     11\n",
       "34    Creature34       Centaur  728          Poor                     68\n",
       "35    Creature35       Centaur  805          Poor                     36\n",
       "37    Creature37       Griffin  684          Poor                      8\n",
       "42    Creature42       Mermaid  961          Poor                      2\n",
       "43    Creature43       Griffin  739          Poor                     19\n",
       "51    Creature51       Unicorn  503          Poor                     37\n",
       "57    Creature57       Phoenix  207          Poor                     92\n",
       "61    Creature61       Mermaid  892          Poor                     53\n",
       "68    Creature68       Unicorn  564          Poor                     67\n",
       "70    Creature70       Centaur  900          Poor                     13\n",
       "72    Creature72       Unicorn  485          Poor                     47\n",
       "74    Creature74       Centaur  231          Poor                      7\n",
       "77    Creature77       Unicorn  171          Poor                     16\n",
       "82    Creature82       Phoenix  839          Poor                     85\n",
       "84    Creature84       Centaur  243          Poor                     29\n",
       "90    Creature90       Unicorn  574          Poor                     26\n",
       "91    Creature91       Mermaid  953          Poor                     97\n",
       "94    Creature94       Phoenix   28          Poor                     96\n",
       "97    Creature97       Mermaid  340          Poor                     96"
      ]
     },
     "execution_count": 28,
     "metadata": {},
     "output_type": "execute_result"
    }
   ],
   "source": [
    "name_mask = df[\"health_status\"] == \"Poor\"\n",
    "df[name_mask]"
   ]
  },
  {
   "cell_type": "code",
   "execution_count": 29,
   "metadata": {},
   "outputs": [
    {
     "data": {
      "text/html": [
       "<div>\n",
       "<style scoped>\n",
       "    .dataframe tbody tr th:only-of-type {\n",
       "        vertical-align: middle;\n",
       "    }\n",
       "\n",
       "    .dataframe tbody tr th {\n",
       "        vertical-align: top;\n",
       "    }\n",
       "\n",
       "    .dataframe thead th {\n",
       "        text-align: right;\n",
       "    }\n",
       "</style>\n",
       "<table border=\"1\" class=\"dataframe\">\n",
       "  <thead>\n",
       "    <tr style=\"text-align: right;\">\n",
       "      <th></th>\n",
       "      <th>creature_name</th>\n",
       "      <th>creature_type</th>\n",
       "      <th>age</th>\n",
       "      <th>health_status</th>\n",
       "      <th>magical_ability_score</th>\n",
       "    </tr>\n",
       "  </thead>\n",
       "  <tbody>\n",
       "    <tr>\n",
       "      <th>0</th>\n",
       "      <td>Creature0</td>\n",
       "      <td>Phoenix</td>\n",
       "      <td>15</td>\n",
       "      <td>Fair</td>\n",
       "      <td>19</td>\n",
       "    </tr>\n",
       "    <tr>\n",
       "      <th>2</th>\n",
       "      <td>Creature2</td>\n",
       "      <td>Griffin</td>\n",
       "      <td>65</td>\n",
       "      <td>Good</td>\n",
       "      <td>35</td>\n",
       "    </tr>\n",
       "    <tr>\n",
       "      <th>3</th>\n",
       "      <td>Creature3</td>\n",
       "      <td>Mermaid</td>\n",
       "      <td>857</td>\n",
       "      <td>Fair</td>\n",
       "      <td>18</td>\n",
       "    </tr>\n",
       "    <tr>\n",
       "      <th>5</th>\n",
       "      <td>Creature5</td>\n",
       "      <td>Unicorn</td>\n",
       "      <td>521</td>\n",
       "      <td>Excellent</td>\n",
       "      <td>66</td>\n",
       "    </tr>\n",
       "    <tr>\n",
       "      <th>6</th>\n",
       "      <td>Creature6</td>\n",
       "      <td>Griffin</td>\n",
       "      <td>344</td>\n",
       "      <td>Fair</td>\n",
       "      <td>18</td>\n",
       "    </tr>\n",
       "    <tr>\n",
       "      <th>...</th>\n",
       "      <td>...</td>\n",
       "      <td>...</td>\n",
       "      <td>...</td>\n",
       "      <td>...</td>\n",
       "      <td>...</td>\n",
       "    </tr>\n",
       "    <tr>\n",
       "      <th>93</th>\n",
       "      <td>Creature93</td>\n",
       "      <td>Dragon</td>\n",
       "      <td>796</td>\n",
       "      <td>Excellent</td>\n",
       "      <td>29</td>\n",
       "    </tr>\n",
       "    <tr>\n",
       "      <th>95</th>\n",
       "      <td>Creature95</td>\n",
       "      <td>Phoenix</td>\n",
       "      <td>620</td>\n",
       "      <td>Fair</td>\n",
       "      <td>27</td>\n",
       "    </tr>\n",
       "    <tr>\n",
       "      <th>96</th>\n",
       "      <td>Creature96</td>\n",
       "      <td>Phoenix</td>\n",
       "      <td>556</td>\n",
       "      <td>Good</td>\n",
       "      <td>63</td>\n",
       "    </tr>\n",
       "    <tr>\n",
       "      <th>98</th>\n",
       "      <td>Creature98</td>\n",
       "      <td>Dragon</td>\n",
       "      <td>798</td>\n",
       "      <td>Excellent</td>\n",
       "      <td>68</td>\n",
       "    </tr>\n",
       "    <tr>\n",
       "      <th>99</th>\n",
       "      <td>Creature99</td>\n",
       "      <td>Mermaid</td>\n",
       "      <td>958</td>\n",
       "      <td>Fair</td>\n",
       "      <td>60</td>\n",
       "    </tr>\n",
       "  </tbody>\n",
       "</table>\n",
       "<p>74 rows × 5 columns</p>\n",
       "</div>"
      ],
      "text/plain": [
       "   creature_name creature_type  age health_status  magical_ability_score\n",
       "0      Creature0       Phoenix   15          Fair                     19\n",
       "2      Creature2       Griffin   65          Good                     35\n",
       "3      Creature3       Mermaid  857          Fair                     18\n",
       "5      Creature5       Unicorn  521     Excellent                     66\n",
       "6      Creature6       Griffin  344          Fair                     18\n",
       "..           ...           ...  ...           ...                    ...\n",
       "93    Creature93        Dragon  796     Excellent                     29\n",
       "95    Creature95       Phoenix  620          Fair                     27\n",
       "96    Creature96       Phoenix  556          Good                     63\n",
       "98    Creature98        Dragon  798     Excellent                     68\n",
       "99    Creature99       Mermaid  958          Fair                     60\n",
       "\n",
       "[74 rows x 5 columns]"
      ]
     },
     "execution_count": 29,
     "metadata": {},
     "output_type": "execute_result"
    }
   ],
   "source": [
    "name_mask = df[\"health_status\"] != \"Poor\"\n",
    "df[name_mask]"
   ]
  }
 ],
 "metadata": {
  "kernelspec": {
   "display_name": "Python 3",
   "language": "python",
   "name": "python3"
  },
  "language_info": {
   "codemirror_mode": {
    "name": "ipython",
    "version": 3
   },
   "file_extension": ".py",
   "mimetype": "text/x-python",
   "name": "python",
   "nbconvert_exporter": "python",
   "pygments_lexer": "ipython3",
   "version": "3.9.17"
  },
  "orig_nbformat": 4
 },
 "nbformat": 4,
 "nbformat_minor": 2
}
